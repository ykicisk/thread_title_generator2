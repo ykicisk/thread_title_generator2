{
 "cells": [
  {
   "cell_type": "markdown",
   "metadata": {},
   "source": [
    "# make_dataset\n",
    "\n",
    "ダウンロードしたスレッドタイトルをmecab＋neologd辞書で形態素解析し、トークンID列としてまとめてpickleに固める。\n",
    "\n",
    "|パラメータ名|内容|\n",
    "|:--|:--|\n",
    "| `max_vocab` | トークンIDの最大ボキャブラリ数 |\n",
    "| `THREAD_FILTER_TH_MIN_RESPONSE` | スレのフィルタリング条件：最低レス数 |\n",
    "| `THREAD_FILTER_TH_MIN_TOKEN` | スレのフィルタリング条件：最低トークン数 |\n",
    "| `THREAD_FILTER_TH_MAX_TOKEN` | スレのフィルタリング条件：最大トークン数 |\n",
    "| `THREAD_FILTER_TH_MAX_UNK_TOKEN_RATIO` | スレのフィルタリング条件：`UNK`の最大比率 |\n",
    "| `THREAD_FILTER_NG_PHRASES` | スレのフィルタリング条件： |\n",
    "\n",
    "※スレタイなどが含まれる出力は削除しています。"
   ]
  },
  {
   "cell_type": "code",
   "execution_count": 1,
   "metadata": {},
   "outputs": [],
   "source": [
    "mecab_dict_path = \"/usr/share/mecab/dic/mecab-ipadic-neologd\"\n",
    "\n",
    "max_vocab=20000\n",
    "THREAD_FILTER_TH_MIN_RESPONSE = 5\n",
    "THREAD_FILTER_TH_MIN_TOKEN = 5\n",
    "THREAD_FILTER_TH_MAX_TOKEN = 24  # 22 + SOS + EOS\n",
    "THREAD_FILTER_TH_MAX_UNK_TOKEN_RATIO = 0.3\n",
    "THREAD_FILTER_NG_PHRASES = [\n",
    "    \"ID:\", \"http\"\n",
    "]"
   ]
  },
  {
   "cell_type": "code",
   "execution_count": 2,
   "metadata": {},
   "outputs": [],
   "source": [
    "import os\n",
    "import re\n",
    "import glob\n",
    "import pickle\n",
    "\n",
    "from utils.text_encoder import NanJThreadTitleEncoder"
   ]
  },
  {
   "cell_type": "code",
   "execution_count": 3,
   "metadata": {},
   "outputs": [],
   "source": [
    "def load_titles(filepath_list):\n",
    "    titles = []\n",
    "    for fpath in filepath_list:\n",
    "        with open(fpath) as f:\n",
    "            for line in f:\n",
    "                text = line.rstrip()\n",
    "                elem = re.split(r'\\t+', text)\n",
    "                if len(elem) != 2:\n",
    "                    continue\n",
    "                thread_title, num_response = elem\n",
    "                # NGフレーズが含まれる場合除外\n",
    "                for phrase in THREAD_FILTER_NG_PHRASES:\n",
    "                    if phrase in thread_title:\n",
    "                        continue\n",
    "                # スレ数が少ないものを除外\n",
    "                if int(num_response) < THREAD_FILTER_TH_MIN_RESPONSE:\n",
    "                    continue\n",
    "                titles.append(thread_title)\n",
    "    return titles"
   ]
  },
  {
   "cell_type": "code",
   "execution_count": null,
   "metadata": {},
   "outputs": [],
   "source": [
    "# filepath_list = [\"../data/1234.tsv\"]\n",
    "filepath_list = glob.glob(\"../data/*.tsv\")\n",
    "titles = load_titles(filepath_list)\n",
    "print(len(titles))\n",
    "print(titles[:3])"
   ]
  },
  {
   "cell_type": "code",
   "execution_count": 5,
   "metadata": {},
   "outputs": [
    {
     "data": {
      "text/plain": [
       "['SOS',\n",
       " 'NANJMIN',\n",
       " '「',\n",
       " '円周率',\n",
       " 'は',\n",
       " 'NUM',\n",
       " 'KUSAxN',\n",
       " '」',\n",
       " 'ワイ',\n",
       " '「',\n",
       " '」',\n",
       " 'EOS']"
      ]
     },
     "execution_count": 5,
     "metadata": {},
     "output_type": "execute_result"
    }
   ],
   "source": [
    "encoder = NanJThreadTitleEncoder(mecab_dict_path)\n",
    "encoder.tokenize(\"彡(゚)(゚)「円周率は3ｗｗｗ」ワイ「🤔」 [無断転載禁止]©2ch.net\")"
   ]
  },
  {
   "cell_type": "code",
   "execution_count": 6,
   "metadata": {},
   "outputs": [],
   "source": [
    "tokens_list = [tuple(encoder.tokenize(t)) for t in titles]\n",
    "tokens_list = list(set(tokens_list))  # 重複排除（Tokenレベルでの重複排除）\n",
    "tokens_list = list(filter(lambda t: THREAD_FILTER_TH_MIN_TOKEN <= len(t) <= THREAD_FILTER_TH_MAX_TOKEN,\n",
    "                          tokens_list))"
   ]
  },
  {
   "cell_type": "code",
   "execution_count": null,
   "metadata": {},
   "outputs": [],
   "source": [
    "tokens_list[:3]"
   ]
  },
  {
   "cell_type": "code",
   "execution_count": 8,
   "metadata": {},
   "outputs": [],
   "source": [
    "encoder.fit(tokens_list, max_vocab=max_vocab)"
   ]
  },
  {
   "cell_type": "code",
   "execution_count": 9,
   "metadata": {},
   "outputs": [
    {
     "data": {
      "text/plain": [
       "[(0, 'PAD'),\n",
       " (1, 'SOS'),\n",
       " (2, 'EOS'),\n",
       " (3, 'UNK'),\n",
       " (4, 'の'),\n",
       " (5, 'に'),\n",
       " (6, 'が'),\n",
       " (7, 'で'),\n",
       " (8, '】'),\n",
       " (9, '【')]"
      ]
     },
     "execution_count": 9,
     "metadata": {},
     "output_type": "execute_result"
    }
   ],
   "source": [
    "list(encoder._id_to_token.items())[:10]"
   ]
  },
  {
   "cell_type": "code",
   "execution_count": 10,
   "metadata": {},
   "outputs": [],
   "source": [
    "# save encoder\n",
    "if not os.path.exists(\"../model\"):\n",
    "    os.mkdir(\"../model\")\n",
    "encoder.save_to_file(\"../model/text_encoder\")"
   ]
  },
  {
   "cell_type": "code",
   "execution_count": 11,
   "metadata": {},
   "outputs": [],
   "source": [
    "# encode tokens into ids\n",
    "ids = [tuple(encoder.encode(tokens)) for tokens in tokens_list]\n",
    "ids = list(set(ids))  # 重複排除（idレベルでの重複排除）\n",
    "ids = list(filter(lambda x: 1.0 * x.count(\"UNK\") / len(x) <= THREAD_FILTER_TH_MAX_UNK_TOKEN_RATIO, ids))\n",
    "ids = list(map(list, ids))"
   ]
  },
  {
   "cell_type": "code",
   "execution_count": 12,
   "metadata": {},
   "outputs": [
    {
     "data": {
      "text/plain": [
       "1613388"
      ]
     },
     "execution_count": 12,
     "metadata": {},
     "output_type": "execute_result"
    }
   ],
   "source": [
    "len(ids)"
   ]
  },
  {
   "cell_type": "code",
   "execution_count": 13,
   "metadata": {},
   "outputs": [
    {
     "data": {
      "text/plain": [
       "[[1,\n",
       "  9,\n",
       "  1349,\n",
       "  8,\n",
       "  10,\n",
       "  144,\n",
       "  10,\n",
       "  11293,\n",
       "  20,\n",
       "  29,\n",
       "  128,\n",
       "  4,\n",
       "  1872,\n",
       "  6,\n",
       "  788,\n",
       "  2277,\n",
       "  6,\n",
       "  971,\n",
       "  119,\n",
       "  17,\n",
       "  17,\n",
       "  2],\n",
       " [1, 228, 229, 32, 688, 1719, 5, 2076, 2],\n",
       " [1,\n",
       "  94,\n",
       "  4,\n",
       "  613,\n",
       "  1042,\n",
       "  323,\n",
       "  491,\n",
       "  288,\n",
       "  7,\n",
       "  185,\n",
       "  4,\n",
       "  10,\n",
       "  436,\n",
       "  504,\n",
       "  5,\n",
       "  68,\n",
       "  56,\n",
       "  18,\n",
       "  933,\n",
       "  2],\n",
       " [1, 1605, 11, 6147, 16262, 24, 103, 17, 2],\n",
       " [1, 3046, 12, 7300, 16, 10, 217, 5, 691, 26, 3, 22, 12448, 34, 13, 2]]"
      ]
     },
     "execution_count": 13,
     "metadata": {},
     "output_type": "execute_result"
    }
   ],
   "source": [
    "ids[:5]"
   ]
  },
  {
   "cell_type": "code",
   "execution_count": 14,
   "metadata": {},
   "outputs": [],
   "source": [
    "# save ids\n",
    "with open(\"../model/input.pickle\", mode=\"wb\") as f:\n",
    "    pickle.dump(ids, f, protocol=pickle.HIGHEST_PROTOCOL)"
   ]
  },
  {
   "cell_type": "code",
   "execution_count": null,
   "metadata": {},
   "outputs": [],
   "source": []
  },
  {
   "cell_type": "code",
   "execution_count": null,
   "metadata": {},
   "outputs": [],
   "source": []
  }
 ],
 "metadata": {
  "kernelspec": {
   "display_name": "Python 3",
   "language": "python",
   "name": "python3"
  },
  "language_info": {
   "codemirror_mode": {
    "name": "ipython",
    "version": 3
   },
   "file_extension": ".py",
   "mimetype": "text/x-python",
   "name": "python",
   "nbconvert_exporter": "python",
   "pygments_lexer": "ipython3",
   "version": "3.6.8"
  }
 },
 "nbformat": 4,
 "nbformat_minor": 4
}
